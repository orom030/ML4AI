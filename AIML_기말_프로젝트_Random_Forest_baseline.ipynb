{
  "nbformat": 4,
  "nbformat_minor": 0,
  "metadata": {
    "colab": {
      "private_outputs": true,
      "provenance": [],
      "toc_visible": true,
      "authorship_tag": "ABX9TyPEhoQ/kNtg6T0oughYGQC0",
      "include_colab_link": true
    },
    "kernelspec": {
      "name": "python3",
      "display_name": "Python 3"
    },
    "language_info": {
      "name": "python"
    }
  },
  "cells": [
    {
      "cell_type": "markdown",
      "metadata": {
        "id": "view-in-github",
        "colab_type": "text"
      },
      "source": [
        "<a href=\"https://colab.research.google.com/github/orom030/ML4AI/blob/main/AIML_%EA%B8%B0%EB%A7%90_%ED%94%84%EB%A1%9C%EC%A0%9D%ED%8A%B8_Random_Forest_baseline.ipynb\" target=\"_parent\"><img src=\"https://colab.research.google.com/assets/colab-badge.svg\" alt=\"Open In Colab\"/></a>"
      ]
    },
    {
      "cell_type": "markdown",
      "source": [
        "## 구글 드라이브에 있는 데이터 불러오기"
      ],
      "metadata": {
        "id": "3gvRbDSqDLzs"
      }
    },
    {
      "cell_type": "code",
      "execution_count": null,
      "metadata": {
        "id": "CB4c_RgzBMoe"
      },
      "outputs": [],
      "source": [
        "# 드라이브 마운트\n",
        "from google.colab import drive\n",
        "drive.mount(\"/content/drive\")"
      ]
    },
    {
      "cell_type": "code",
      "source": [
        "import os\n",
        "import numpy as np\n",
        "import pandas as pd\n",
        "import warnings\n",
        "warnings.filterwarnings('ignore')"
      ],
      "metadata": {
        "id": "nN5rAEg7DAri"
      },
      "execution_count": null,
      "outputs": []
    },
    {
      "cell_type": "code",
      "source": [
        "# csv 불러오기\n",
        "train = pd.read_csv('/content/drive/MyDrive/AIML_FINAL/open/train.csv')\n",
        "test = pd.read_csv('/content/drive/MyDrive/AIML_FINAL/open/test.csv')\n",
        "ss = pd.read_csv('/content/drive/MyDrive/AIML_FINAL/open/sample_submission.csv')"
      ],
      "metadata": {
        "id": "KsiaPQ-mDBev"
      },
      "execution_count": null,
      "outputs": []
    },
    {
      "cell_type": "code",
      "source": [],
      "metadata": {
        "id": "A8RGOKLqDBVn"
      },
      "execution_count": null,
      "outputs": []
    }
  ]
}