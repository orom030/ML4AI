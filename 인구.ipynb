{
  "nbformat": 4,
  "nbformat_minor": 0,
  "metadata": {
    "colab": {
      "private_outputs": true,
      "provenance": [],
      "mount_file_id": "1hCe6XnQzezRZl05Nzexzrea3Jzt30fx7",
      "authorship_tag": "ABX9TyNcqffCDrahNHiAVxQnjfIS",
      "include_colab_link": true
    },
    "kernelspec": {
      "name": "python3",
      "display_name": "Python 3"
    },
    "language_info": {
      "name": "python"
    }
  },
  "cells": [
    {
      "cell_type": "markdown",
      "metadata": {
        "id": "view-in-github",
        "colab_type": "text"
      },
      "source": [
        "<a href=\"https://colab.research.google.com/github/orom030/ML4AI/blob/main/%EC%9D%B8%EA%B5%AC.ipynb\" target=\"_parent\"><img src=\"https://colab.research.google.com/assets/colab-badge.svg\" alt=\"Open In Colab\"/></a>"
      ]
    },
    {
      "cell_type": "code",
      "execution_count": null,
      "metadata": {
        "id": "VUHT432swZw9"
      },
      "outputs": [],
      "source": [
        "from google.colab import drive\n",
        "drive.mount('/content/drive')"
      ]
    },
    {
      "cell_type": "code",
      "source": [
        "import os\n",
        "import numpy as np\n",
        "import pandas as pd\n",
        "import warnings\n",
        "import csv\n",
        "import matplotlib.pyplot as plt\n",
        "warnings.filterwarnings('ignore')"
      ],
      "metadata": {
        "id": "TqPdvbDSzbuC"
      },
      "execution_count": null,
      "outputs": []
    },
    {
      "cell_type": "code",
      "source": [
        "dg = pd.read_csv('/content/drive/MyDrive/AIML_FINAL/2019.6.30.기준 대구광역시 주민등록인구 현황.csv', encoding='cp949')"
      ],
      "metadata": {
        "id": "9ltnemXxx5BD"
      },
      "execution_count": null,
      "outputs": []
    },
    {
      "cell_type": "code",
      "source": [
        "dg.shape"
      ],
      "metadata": {
        "id": "htjlpSN33PNb"
      },
      "execution_count": null,
      "outputs": []
    },
    {
      "cell_type": "code",
      "source": [
        "dg.head()"
      ],
      "metadata": {
        "id": "owfnISLkx48X"
      },
      "execution_count": null,
      "outputs": []
    },
    {
      "cell_type": "code",
      "source": [
        "dg.columns"
      ],
      "metadata": {
        "id": "mM25MXFJ2FbV"
      },
      "execution_count": null,
      "outputs": []
    },
    {
      "cell_type": "code",
      "source": [
        "dg.행정구역"
      ],
      "metadata": {
        "id": "Ef4lGyeu2ZWh"
      },
      "execution_count": null,
      "outputs": []
    },
    {
      "cell_type": "code",
      "source": [
        "dg.isnull().sum()"
      ],
      "metadata": {
        "id": "E9Oniw7hx43U"
      },
      "execution_count": null,
      "outputs": []
    },
    {
      "cell_type": "code",
      "source": [
        "dg"
      ],
      "metadata": {
        "id": "eu5kgVXP3bnL"
      },
      "execution_count": null,
      "outputs": []
    },
    {
      "cell_type": "code",
      "source": [
        "dgT = dg.T"
      ],
      "metadata": {
        "id": "0O2UuhV14qt9"
      },
      "execution_count": null,
      "outputs": []
    },
    {
      "cell_type": "code",
      "source": [
        "dgT"
      ],
      "metadata": {
        "id": "uuBXYxosTEAS"
      },
      "execution_count": null,
      "outputs": []
    },
    {
      "cell_type": "code",
      "source": [
        "dgTNum = dgT.drop(dgT.index[0:4],axis=0)\n",
        "dgTNum = dgTNum.drop(dgT.index[5:7],axis=0)\n",
        "dgTNum = dgTNum.drop(dgT.index[8:10],axis=0)\n",
        "dgTNum = dgTNum.drop(dgT.index[11:13],axis=0)\n",
        "dgTNum = dgTNum.drop(dgT.index[14:16],axis=0)\n",
        "dgTNum = dgTNum.drop(dgT.index[17:19],axis=0)\n",
        "dgTNum = dgTNum.drop(dgT.index[20:22],axis=0)\n",
        "dgTNum = dgTNum.drop(dgT.index[23:25],axis=0)\n",
        "dgTNum = dgTNum.drop(dgT.index[26:28],axis=0)"
      ],
      "metadata": {
        "id": "nZSMuqX-5c0L"
      },
      "execution_count": null,
      "outputs": []
    },
    {
      "cell_type": "code",
      "source": [
        "New = dgTNum.T\n",
        "New"
      ],
      "metadata": {
        "id": "0f7rHDd858SO"
      },
      "execution_count": null,
      "outputs": []
    },
    {
      "cell_type": "code",
      "source": [
        "dgTNum.columns"
      ],
      "metadata": {
        "id": "2M-0_XnrVgJ_"
      },
      "execution_count": null,
      "outputs": []
    },
    {
      "cell_type": "code",
      "source": [
        "dgTNum"
      ],
      "metadata": {
        "id": "rxOZhH2kgDT0"
      },
      "execution_count": null,
      "outputs": []
    },
    {
      "cell_type": "code",
      "source": [
        "df2 = dgTNum.copy()\n",
        "\n",
        "df2['총인구수'] = df2.loc[:].sum(axis = 1)\n",
        "df2"
      ],
      "metadata": {
        "id": "R5qjX9Phf8BZ"
      },
      "execution_count": null,
      "outputs": []
    },
    {
      "cell_type": "code",
      "source": [
        "df3 = df2.div(df2['총인구수'], axis = 0)\n",
        "df3.head()"
      ],
      "metadata": {
        "id": "shINAJ_Qh9In"
      },
      "execution_count": null,
      "outputs": []
    },
    {
      "cell_type": "code",
      "source": [
        "df3.T.sum()"
      ],
      "metadata": {
        "id": "ubAYQPXekjdV"
      },
      "execution_count": null,
      "outputs": []
    },
    {
      "cell_type": "code",
      "source": [
        "del df3['총인구수']"
      ],
      "metadata": {
        "id": "KahCma6MizE9"
      },
      "execution_count": null,
      "outputs": []
    },
    {
      "cell_type": "code",
      "source": [
        "df4 = df3.drop(df3.index[1:8],axis=0)\n",
        "df4"
      ],
      "metadata": {
        "id": "6SP2lGlDjrUb"
      },
      "execution_count": null,
      "outputs": []
    },
    {
      "cell_type": "code",
      "source": [
        "import matplotlib.pyplot as plt\n",
        "plt.style.use('ggplot')\n",
        "df4.T.plot()\n",
        "plt.show()"
      ],
      "metadata": {
        "id": "5IZmBYMlicOe"
      },
      "execution_count": null,
      "outputs": []
    }
  ]
}