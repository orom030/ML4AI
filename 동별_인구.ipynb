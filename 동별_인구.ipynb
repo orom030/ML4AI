{
  "nbformat": 4,
  "nbformat_minor": 0,
  "metadata": {
    "colab": {
      "private_outputs": true,
      "provenance": [],
      "authorship_tag": "ABX9TyOPHB2Sb1jhS6Nm/T1hPy6d",
      "include_colab_link": true
    },
    "kernelspec": {
      "name": "python3",
      "display_name": "Python 3"
    },
    "language_info": {
      "name": "python"
    }
  },
  "cells": [
    {
      "cell_type": "markdown",
      "metadata": {
        "id": "view-in-github",
        "colab_type": "text"
      },
      "source": [
        "<a href=\"https://colab.research.google.com/github/orom030/ML4AI/blob/main/%EB%8F%99%EB%B3%84_%EC%9D%B8%EA%B5%AC.ipynb\" target=\"_parent\"><img src=\"https://colab.research.google.com/assets/colab-badge.svg\" alt=\"Open In Colab\"/></a>"
      ]
    },
    {
      "cell_type": "code",
      "execution_count": null,
      "metadata": {
        "id": "6fr6XOdRvjiy"
      },
      "outputs": [],
      "source": [
        "from google.colab import drive\n",
        "drive.mount('/content/drive')"
      ]
    },
    {
      "cell_type": "code",
      "source": [
        "import os\n",
        "import numpy as np\n",
        "import pandas as pd\n",
        "import warnings\n",
        "warnings.filterwarnings('ignore')"
      ],
      "metadata": {
        "id": "7smyBS5yx8IL"
      },
      "execution_count": null,
      "outputs": []
    },
    {
      "cell_type": "markdown",
      "source": [
        "# 남구"
      ],
      "metadata": {
        "id": "SGKglmJZ7wYe"
      }
    },
    {
      "cell_type": "code",
      "source": [
        "namgu = pd.read_excel('/content/drive/MyDrive/AIML_FINAL/남구_20201231.xls',sheet_name = '2.동별세대별')"
      ],
      "metadata": {
        "id": "Zi11rZYOzUt3"
      },
      "execution_count": null,
      "outputs": []
    },
    {
      "cell_type": "code",
      "source": [
        "namguya = namgu[17:30]\n",
        "namguya"
      ],
      "metadata": {
        "id": "hvH8jaWm0Q1w"
      },
      "execution_count": null,
      "outputs": []
    },
    {
      "cell_type": "code",
      "source": [
        "namguya"
      ],
      "metadata": {
        "id": "ikLtN3lr3N6Y"
      },
      "execution_count": null,
      "outputs": []
    },
    {
      "cell_type": "code",
      "source": [
        "namguya.columns = ['동 이름','1','동별 인구','3','4','5','6','7','8','9','10','11']\n",
        "namguya.columns"
      ],
      "metadata": {
        "id": "-VnA8ACk1nc7"
      },
      "execution_count": null,
      "outputs": []
    },
    {
      "cell_type": "code",
      "source": [
        "namguya = namguya.drop(['1','3','4','5','6','7','8','9','10','11'], axis=1)"
      ],
      "metadata": {
        "id": "E9aj3tdB3e-j"
      },
      "execution_count": null,
      "outputs": []
    },
    {
      "cell_type": "code",
      "source": [
        "namguya['구 이름'] = '남구'"
      ],
      "metadata": {
        "id": "YSNlun877V96"
      },
      "execution_count": null,
      "outputs": []
    },
    {
      "cell_type": "code",
      "source": [
        "namguya"
      ],
      "metadata": {
        "id": "sPSZX1cY7h8P"
      },
      "execution_count": null,
      "outputs": []
    },
    {
      "cell_type": "markdown",
      "source": [
        "# 달서구"
      ],
      "metadata": {
        "id": "fqzDgeuP7ve7"
      }
    },
    {
      "cell_type": "code",
      "source": [
        "dalseo = pd.read_excel('/content/drive/MyDrive/AIML_FINAL/달서구_20211231.xlsx',sheet_name = 'Ⅲ-2 동별세대및인구')"
      ],
      "metadata": {
        "id": "c_w3c1TH7vCb"
      },
      "execution_count": null,
      "outputs": []
    },
    {
      "cell_type": "code",
      "source": [
        "dalseo"
      ],
      "metadata": {
        "id": "YC1tMI1p8I0t"
      },
      "execution_count": null,
      "outputs": []
    },
    {
      "cell_type": "code",
      "source": [
        "dalseoya = dalseo[17:40]\n",
        "dalseoya.columns"
      ],
      "metadata": {
        "id": "fBX1n8bV8NeL"
      },
      "execution_count": null,
      "outputs": []
    },
    {
      "cell_type": "code",
      "source": [
        "dalseoya.columns = [['동 이름','1','동별 인구','3','4','5','6','7','8','9','10','11','12','13','14','15','16']]"
      ],
      "metadata": {
        "id": "H9qiBbpF8_8S"
      },
      "execution_count": null,
      "outputs": []
    },
    {
      "cell_type": "code",
      "source": [
        "dalseoya = dalseoya.drop(['1','3','4','5','6','7','8','9','10','11','12','13','14','15','16'], axis=1)"
      ],
      "metadata": {
        "id": "UiGQD2iI83Od"
      },
      "execution_count": null,
      "outputs": []
    },
    {
      "cell_type": "code",
      "source": [
        "dalseoya['구 이름'] = '달서구'"
      ],
      "metadata": {
        "id": "wco8CtTY97Gu"
      },
      "execution_count": null,
      "outputs": []
    },
    {
      "cell_type": "code",
      "source": [
        "dalseoya"
      ],
      "metadata": {
        "id": "pfaIQxGB-AIY"
      },
      "execution_count": null,
      "outputs": []
    },
    {
      "cell_type": "markdown",
      "source": [
        "달성군"
      ],
      "metadata": {
        "id": "C7yoVj-x-I2p"
      }
    },
    {
      "cell_type": "code",
      "source": [
        "dalsung = pd.read_csv('/content/drive/MyDrive/AIML_FINAL/달성군_20180430.csv', encoding ='cp949')"
      ],
      "metadata": {
        "id": "_FaXlDih-Ie-"
      },
      "execution_count": null,
      "outputs": []
    },
    {
      "cell_type": "code",
      "source": [
        "dalsung.columns =['동 이름', '세대수', '동별 인구', '전체남자수', '전체여자수', '내국인계', '내국인남자수', '내국인여자수',\n",
        "       '외국인계', '외국인남자수', '외국인여자수']"
      ],
      "metadata": {
        "id": "5zqV4yPl-Duk"
      },
      "execution_count": null,
      "outputs": []
    },
    {
      "cell_type": "code",
      "source": [
        "dalsungya = dalsung.drop(['세대수', '전체남자수', '전체여자수', '내국인계', '내국인남자수', '내국인여자수','외국인계', '외국인남자수', '외국인여자수'],axis=1)"
      ],
      "metadata": {
        "id": "S8gUBrZp-yh9"
      },
      "execution_count": null,
      "outputs": []
    },
    {
      "cell_type": "code",
      "source": [
        "dalsungya['구 이름'] = '달성군'"
      ],
      "metadata": {
        "id": "A9amM2KA_IRD"
      },
      "execution_count": null,
      "outputs": []
    },
    {
      "cell_type": "code",
      "source": [
        "dalsungya = dalsungya.drop(dalsungya.index[0],axis=0)"
      ],
      "metadata": {
        "id": "s20s-3TZ_jcq"
      },
      "execution_count": null,
      "outputs": []
    },
    {
      "cell_type": "code",
      "source": [
        "dalsungya"
      ],
      "metadata": {
        "id": "bZxNtOAI_MEA"
      },
      "execution_count": null,
      "outputs": []
    },
    {
      "cell_type": "markdown",
      "source": [
        "# 동구"
      ],
      "metadata": {
        "id": "Mz3yRsc5_sdx"
      }
    },
    {
      "cell_type": "code",
      "source": [],
      "metadata": {
        "id": "s9aHMklm_1Zu"
      },
      "execution_count": null,
      "outputs": []
    },
    {
      "cell_type": "code",
      "source": [],
      "metadata": {
        "id": "-oRgBsIZ_1Tk"
      },
      "execution_count": null,
      "outputs": []
    },
    {
      "cell_type": "code",
      "source": [],
      "metadata": {
        "id": "1EbqudUV_09d"
      },
      "execution_count": null,
      "outputs": []
    },
    {
      "cell_type": "markdown",
      "source": [
        "# 북구"
      ],
      "metadata": {
        "id": "vHZPEaKY_sTY"
      }
    },
    {
      "cell_type": "code",
      "source": [],
      "metadata": {
        "id": "YP--C8UE_xga"
      },
      "execution_count": null,
      "outputs": []
    },
    {
      "cell_type": "markdown",
      "source": [
        "# 서구"
      ],
      "metadata": {
        "id": "UHNK9kiF_sAG"
      }
    },
    {
      "cell_type": "markdown",
      "source": [
        "# 수성구"
      ],
      "metadata": {
        "id": "QFVIgPw6_yuG"
      }
    },
    {
      "cell_type": "code",
      "source": [],
      "metadata": {
        "id": "PwO_e8qE_pLf"
      },
      "execution_count": null,
      "outputs": []
    }
  ]
}